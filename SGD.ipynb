{
  "nbformat": 4,
  "nbformat_minor": 0,
  "metadata": {
    "colab": {
      "provenance": [],
      "authorship_tag": "ABX9TyMNoEfX8maD/YEXbpqQPdQd",
      "include_colab_link": true
    },
    "kernelspec": {
      "name": "python3",
      "display_name": "Python 3"
    },
    "language_info": {
      "name": "python"
    }
  },
  "cells": [
    {
      "cell_type": "markdown",
      "metadata": {
        "id": "view-in-github",
        "colab_type": "text"
      },
      "source": [
        "<a href=\"https://colab.research.google.com/github/newmantic/SGD/blob/main/SGD.ipynb\" target=\"_parent\"><img src=\"https://colab.research.google.com/assets/colab-badge.svg\" alt=\"Open In Colab\"/></a>"
      ]
    },
    {
      "cell_type": "code",
      "execution_count": 1,
      "metadata": {
        "id": "va2dEcE0AnZL"
      },
      "outputs": [],
      "source": [
        "import numpy as np\n",
        "\n",
        "class SGD:\n",
        "    def __init__(self, learning_rate=0.01, max_iter=1000):\n",
        "        self.learning_rate = learning_rate\n",
        "        self.max_iter = max_iter\n",
        "\n",
        "    def fit(self, X, y):\n",
        "        \"\"\"\n",
        "        Fit the model using Stochastic Gradient Descent.\n",
        "\n",
        "        Parameters:\n",
        "        X : np.ndarray\n",
        "            Training data (features).\n",
        "        y : np.ndarray\n",
        "            Target values (labels).\n",
        "        \"\"\"\n",
        "        self.theta = np.zeros(X.shape[1])  # Initialize weights\n",
        "        m = len(y)\n",
        "\n",
        "        for _ in range(self.max_iter):\n",
        "            for i in range(m):\n",
        "                # Randomly pick one example\n",
        "                random_index = np.random.randint(m)\n",
        "                x_i = X[random_index]\n",
        "                y_i = y[random_index]\n",
        "\n",
        "                # Compute the prediction\n",
        "                prediction = self.predict(x_i)\n",
        "\n",
        "                # Update weights\n",
        "                self.theta += self.learning_rate * (y_i - prediction) * x_i\n",
        "\n",
        "    def predict(self, x):\n",
        "        \"\"\"\n",
        "        Predict the output for a single input using the learned weights.\n",
        "\n",
        "        Parameters:\n",
        "        x : np.ndarray\n",
        "            Input feature vector.\n",
        "\n",
        "        Returns:\n",
        "        float\n",
        "            Predicted output.\n",
        "        \"\"\"\n",
        "        return np.dot(x, self.theta)\n",
        "\n",
        "    def predict_all(self, X):\n",
        "        \"\"\"\n",
        "        Predict the output for all inputs.\n",
        "\n",
        "        Parameters:\n",
        "        X : np.ndarray\n",
        "            Input feature matrix.\n",
        "\n",
        "        Returns:\n",
        "        np.ndarray\n",
        "            Predicted outputs.\n",
        "        \"\"\"\n",
        "        return np.dot(X, self.theta)\n",
        "\n"
      ]
    },
    {
      "cell_type": "code",
      "source": [
        "# Example test cases\n",
        "def test_sgd():\n",
        "    # Generate synthetic data\n",
        "    np.random.seed(0)\n",
        "    X = np.random.rand(100, 1)  # 100 samples, 1 feature\n",
        "    y = 3 * X.flatten() + np.random.randn(100) * 0.1  # Linear relationship with noise\n",
        "\n",
        "    # Reshape y for compatibility\n",
        "    y = y.reshape(-1, 1)\n",
        "\n",
        "    # Train SGD model\n",
        "    model = SGD(learning_rate=0.1, max_iter=1000)\n",
        "    model.fit(X, y)\n",
        "\n",
        "    # Predict values\n",
        "    predictions = model.predict_all(X)\n",
        "\n",
        "    # Display weights and a few predictions\n",
        "    print(\"Learned weights (theta):\", model.theta)\n",
        "    print(\"First 5 predictions:\", predictions[:5].flatten())\n",
        "    print(\"Actual first 5 values:\", y.flatten()[:5])\n",
        "\n",
        "\n",
        "# Advanced Test Cases\n",
        "def additional_tests():\n",
        "    # Test Case 1: Simple linear regression with more features\n",
        "    X1 = np.array([[1, 1], [1, 2], [2, 2], [2, 3]])  # 4 samples, 2 features\n",
        "    y1 = np.array([1, 2, 2, 3])  # Target values\n",
        "    model1 = SGD(learning_rate=0.1, max_iter=1000)\n",
        "    model1.fit(X1, y1)\n",
        "    print(\"Test Case 1 - Weights:\", model1.theta)\n",
        "\n",
        "    # Test Case 2: Non-linear data\n",
        "    X2 = np.random.rand(100, 1)\n",
        "    y2 = (X2.flatten() ** 2) + np.random.randn(100) * 0.1  # Quadratic relationship with noise\n",
        "    model2 = SGD(learning_rate=0.1, max_iter=1000)\n",
        "    model2.fit(X2, y2)\n",
        "    predictions2 = model2.predict_all(X2)\n",
        "    print(\"Test Case 2 - Weights:\", model2.theta)\n",
        "    print(\"First 5 predictions:\", predictions2[:5].flatten())\n",
        "\n",
        "    # Test Case 3: Larger dataset\n",
        "    X3 = np.random.rand(1000, 1)  # 1000 samples\n",
        "    y3 = 5 * X3.flatten() + np.random.randn(1000) * 0.5  # Linear relationship\n",
        "    model3 = SGD(learning_rate=0.05, max_iter=2000)\n",
        "    model3.fit(X3, y3)\n",
        "    predictions3 = model3.predict_all(X3)\n",
        "    print(\"Test Case 3 - Weights:\", model3.theta)\n",
        "    print(\"First 5 predictions:\", predictions3[:5].flatten())\n",
        "\n",
        "# Run the tests\n",
        "test_sgd()\n",
        "additional_tests()"
      ],
      "metadata": {
        "colab": {
          "base_uri": "https://localhost:8080/"
        },
        "id": "keEUQgWnA0Rl",
        "outputId": "856291cc-5e82-4fcf-96e3-c44387696266"
      },
      "execution_count": 2,
      "outputs": [
        {
          "output_type": "stream",
          "name": "stdout",
          "text": [
            "Learned weights (theta): [3.06849109]\n",
            "First 5 predictions: [1.68402935 2.1945522  1.84957405 1.67196919 1.29998098]\n",
            "Actual first 5 values: [1.52992553 2.23565075 1.85485637 1.48102518 1.41978962]\n",
            "Test Case 1 - Weights: [4.84848548e-16 1.00000000e+00]\n",
            "Test Case 2 - Weights: [0.74511575]\n",
            "First 5 predictions: [0.71170998 0.3078491  0.54227668 0.21644561 0.08285744]\n",
            "Test Case 3 - Weights: [5.07521863]\n",
            "First 5 predictions: [4.08540649 1.14241115 0.46573746 1.66195239 2.59496193]\n"
          ]
        }
      ]
    }
  ]
}